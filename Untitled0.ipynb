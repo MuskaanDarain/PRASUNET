{
  "nbformat": 4,
  "nbformat_minor": 0,
  "metadata": {
    "colab": {
      "provenance": []
    },
    "kernelspec": {
      "name": "python3",
      "display_name": "Python 3"
    },
    "language_info": {
      "name": "python"
    }
  },
  "cells": [
    {
      "cell_type": "code",
      "source": [
        "import pandas as pd\n",
        "import numpy as np\n",
        "import matplotlib.pyplot as plt\n",
        "import seaborn as sns\n",
        "df=pd.read_csv('Titanic-Dataset.csv')\n",
        "print(df.head())"
      ],
      "metadata": {
        "id": "Mvx84Dje95TN",
        "colab": {
          "base_uri": "https://localhost:8080/"
        },
        "outputId": "008e6f80-5d3f-4b0b-ec91-9407e6eec40a"
      },
      "execution_count": 1,
      "outputs": [
        {
          "output_type": "stream",
          "name": "stdout",
          "text": [
            "   PassengerId  Survived  Pclass  \\\n",
            "0            1         0       3   \n",
            "1            2         1       1   \n",
            "2            3         1       3   \n",
            "3            4         1       1   \n",
            "4            5         0       3   \n",
            "\n",
            "                                                Name     Sex   Age  SibSp  \\\n",
            "0                            Braund, Mr. Owen Harris    male  22.0      1   \n",
            "1  Cumings, Mrs. John Bradley (Florence Briggs Th...  female  38.0      1   \n",
            "2                             Heikkinen, Miss. Laina  female  26.0      0   \n",
            "3       Futrelle, Mrs. Jacques Heath (Lily May Peel)  female  35.0      1   \n",
            "4                           Allen, Mr. William Henry    male  35.0      0   \n",
            "\n",
            "   Parch            Ticket     Fare Cabin Embarked  \n",
            "0      0         A/5 21171   7.2500   NaN        S  \n",
            "1      0          PC 17599  71.2833   C85        C  \n",
            "2      0  STON/O2. 3101282   7.9250   NaN        S  \n",
            "3      0            113803  53.1000  C123        S  \n",
            "4      0            373450   8.0500   NaN        S  \n"
          ]
        }
      ]
    },
    {
      "cell_type": "code",
      "source": [
        "print(df.shape)\n",
        "print(df.info())"
      ],
      "metadata": {
        "colab": {
          "base_uri": "https://localhost:8080/"
        },
        "id": "vjaf2QXYqrTg",
        "outputId": "7beffb6c-3036-4f37-9a53-246ab976d9e2"
      },
      "execution_count": 2,
      "outputs": [
        {
          "output_type": "stream",
          "name": "stdout",
          "text": [
            "(891, 12)\n",
            "<class 'pandas.core.frame.DataFrame'>\n",
            "RangeIndex: 891 entries, 0 to 890\n",
            "Data columns (total 12 columns):\n",
            " #   Column       Non-Null Count  Dtype  \n",
            "---  ------       --------------  -----  \n",
            " 0   PassengerId  891 non-null    int64  \n",
            " 1   Survived     891 non-null    int64  \n",
            " 2   Pclass       891 non-null    int64  \n",
            " 3   Name         891 non-null    object \n",
            " 4   Sex          891 non-null    object \n",
            " 5   Age          714 non-null    float64\n",
            " 6   SibSp        891 non-null    int64  \n",
            " 7   Parch        891 non-null    int64  \n",
            " 8   Ticket       891 non-null    object \n",
            " 9   Fare         891 non-null    float64\n",
            " 10  Cabin        204 non-null    object \n",
            " 11  Embarked     889 non-null    object \n",
            "dtypes: float64(2), int64(5), object(5)\n",
            "memory usage: 83.7+ KB\n",
            "None\n"
          ]
        }
      ]
    },
    {
      "cell_type": "code",
      "source": [
        "print(df.isnull().sum())"
      ],
      "metadata": {
        "colab": {
          "base_uri": "https://localhost:8080/"
        },
        "id": "Z2GJSk_jquwL",
        "outputId": "93622334-668d-47ed-9de3-8178ef855333"
      },
      "execution_count": 3,
      "outputs": [
        {
          "output_type": "stream",
          "name": "stdout",
          "text": [
            "PassengerId      0\n",
            "Survived         0\n",
            "Pclass           0\n",
            "Name             0\n",
            "Sex              0\n",
            "Age            177\n",
            "SibSp            0\n",
            "Parch            0\n",
            "Ticket           0\n",
            "Fare             0\n",
            "Cabin          687\n",
            "Embarked         2\n",
            "dtype: int64\n"
          ]
        }
      ]
    },
    {
      "cell_type": "code",
      "source": [
        "port=df.Embarked.mode()\n",
        "df.Embarked.fillna(value=port,inplace=True)\n",
        "print(df.Embarked.isnull().sum())"
      ],
      "metadata": {
        "colab": {
          "base_uri": "https://localhost:8080/"
        },
        "id": "fUJ8lTwvqxe0",
        "outputId": "bb50af72-3ada-4d0f-df6b-eabe3a897299"
      },
      "execution_count": 4,
      "outputs": [
        {
          "output_type": "stream",
          "name": "stdout",
          "text": [
            "2\n"
          ]
        }
      ]
    },
    {
      "cell_type": "code",
      "source": [
        "mean_age=df.Age.mean()\n",
        "df.Age.fillna(value=mean_age,inplace=True)"
      ],
      "metadata": {
        "id": "0dUNsjCpq2r6"
      },
      "execution_count": 5,
      "outputs": []
    },
    {
      "cell_type": "code",
      "source": [
        "sclass = df.groupby(['Pclass']).agg({'Survived': 'sum'})\n",
        "tclass = df.groupby(['Pclass']).agg({'Pclass': 'count'})\n",
        "tclass.rename(columns = {'Pclass':'Total'}, inplace = True)\n",
        "df2 = pd.merge(sclass, tclass, left_index = True, right_index = True)\n",
        "percent = (df2['Survived'] / df2['Total']) * 100\n",
        "df2['Percentage'] = percent\n",
        "print(df2)"
      ],
      "metadata": {
        "colab": {
          "base_uri": "https://localhost:8080/"
        },
        "id": "hjKqCGtzq34o",
        "outputId": "3ba48fb7-226b-46f7-a963-2d9ef27459b1"
      },
      "execution_count": 6,
      "outputs": [
        {
          "output_type": "stream",
          "name": "stdout",
          "text": [
            "        Survived  Total  Percentage\n",
            "Pclass                             \n",
            "1            136    216   62.962963\n",
            "2             87    184   47.282609\n",
            "3            119    491   24.236253\n"
          ]
        }
      ]
    },
    {
      "cell_type": "code",
      "source": [
        "survived = df.groupby(['Sex']).agg({'Survived': 'sum'})\n",
        "total = df.groupby(['Sex']).agg({'Survived': 'size'})\n",
        "total.rename(columns = {'Survived':'Total'}, inplace = True)\n",
        "df2 = pd.merge(survived, total, left_index = True, right_index = True)\n",
        "percent = (df2['Survived'] / df2['Total']) * 100\n",
        "df2['Percentage'] = percent\n",
        "print(df2)"
      ],
      "metadata": {
        "colab": {
          "base_uri": "https://localhost:8080/"
        },
        "id": "sItY3pvJq66c",
        "outputId": "09713010-b25b-474b-84f7-d07667821ffb"
      },
      "execution_count": 7,
      "outputs": [
        {
          "output_type": "stream",
          "name": "stdout",
          "text": [
            "        Survived  Total  Percentage\n",
            "Sex                                \n",
            "female       233    314   74.203822\n",
            "male         109    577   18.890815\n"
          ]
        }
      ]
    },
    {
      "cell_type": "code",
      "source": [
        "bins = [0, 18, 35, 50, 100]\n",
        "label = ['0-18', '19-35', '36-50', '51+']\n",
        "df['AgeGroup'] = pd.cut(df['Age'], bins = bins, labels = label)\n",
        "df2 = df.groupby(['AgeGroup']).agg({'Survived': 'mean'})\n",
        "print(\"Survival rate by age group: \\n\", df2)"
      ],
      "metadata": {
        "colab": {
          "base_uri": "https://localhost:8080/"
        },
        "id": "wHkhaAvOq-dp",
        "outputId": "c593a7ff-e4e5-44e4-dc19-fe2215139c7f"
      },
      "execution_count": 8,
      "outputs": [
        {
          "output_type": "stream",
          "name": "stdout",
          "text": [
            "Survival rate by age group: \n",
            "           Survived\n",
            "AgeGroup          \n",
            "0-18      0.503597\n",
            "19-35     0.353271\n",
            "36-50     0.398693\n",
            "51+       0.343750\n"
          ]
        }
      ]
    },
    {
      "cell_type": "code",
      "source": [
        "df['FamilySize'] = df['SibSp'] + df['Parch']\n",
        "df['TravelingWithOthers'] = (df['FamilySize'] > 0).astype(int)\n",
        "survived = df.groupby(['TravelingWithOthers']).agg({'Survived': 'mean'})\n",
        "print(\"Survival Rate by Traveling With Others:\\n\", survived)"
      ],
      "metadata": {
        "colab": {
          "base_uri": "https://localhost:8080/"
        },
        "id": "s47iqzQyrBwI",
        "outputId": "a652eebf-5629-4bb6-fae3-c9566295d219"
      },
      "execution_count": 9,
      "outputs": [
        {
          "output_type": "stream",
          "name": "stdout",
          "text": [
            "Survival Rate by Traveling With Others:\n",
            "                      Survived\n",
            "TravelingWithOthers          \n",
            "0                    0.303538\n",
            "1                    0.505650\n"
          ]
        }
      ]
    },
    {
      "cell_type": "code",
      "source": [
        "survival = df.groupby(['Pclass', 'Sex']).agg({'Survived': 'mean'}).unstack()\n",
        "print(\"Male and Female Survival per Class:\\n\", survival)"
      ],
      "metadata": {
        "colab": {
          "base_uri": "https://localhost:8080/"
        },
        "id": "DauvgDZMrEdk",
        "outputId": "80007df7-781e-4033-c890-25296a62175d"
      },
      "execution_count": 10,
      "outputs": [
        {
          "output_type": "stream",
          "name": "stdout",
          "text": [
            "Male and Female Survival per Class:\n",
            "         Survived          \n",
            "Sex       female      male\n",
            "Pclass                    \n",
            "1       0.968085  0.368852\n",
            "2       0.921053  0.157407\n",
            "3       0.500000  0.135447\n"
          ]
        }
      ]
    },
    {
      "cell_type": "code",
      "source": [
        "survival_rate = df.groupby(['Embarked']).agg({'Survived': 'mean'})\n",
        "print(survival_rate)"
      ],
      "metadata": {
        "colab": {
          "base_uri": "https://localhost:8080/"
        },
        "id": "7F0u-19BrHhd",
        "outputId": "5bb34c26-4cc8-4b36-cbc2-a77909ac0261"
      },
      "execution_count": 11,
      "outputs": [
        {
          "output_type": "stream",
          "name": "stdout",
          "text": [
            "          Survived\n",
            "Embarked          \n",
            "C         0.553571\n",
            "Q         0.389610\n",
            "S         0.336957\n"
          ]
        }
      ]
    },
    {
      "cell_type": "code",
      "source": [
        "df['HasCabin'] = df['Cabin'].notna()\n",
        "survival_rate = df.groupby('HasCabin').agg({'Survived': 'mean'})\n",
        "print(\"Survival Rate by Having a Recorded Cabin:\\n\")\n",
        "print(survival_rate)"
      ],
      "metadata": {
        "colab": {
          "base_uri": "https://localhost:8080/"
        },
        "id": "dUonJaH_rLT1",
        "outputId": "b7d52d01-b46f-4f53-f14f-87c48a3c5e58"
      },
      "execution_count": 12,
      "outputs": [
        {
          "output_type": "stream",
          "name": "stdout",
          "text": [
            "Survival Rate by Having a Recorded Cabin:\n",
            "\n",
            "          Survived\n",
            "HasCabin          \n",
            "False     0.299854\n",
            "True      0.666667\n"
          ]
        }
      ]
    },
    {
      "cell_type": "code",
      "source": [
        "bins = [0, 18, 35, 50, 100]\n",
        "label = ['0-18', '19-35', '36-50', '51+']\n",
        "df['AgeGroup'] = pd.cut(df['Age'], bins = bins, labels = label)\n",
        "df2 = df.groupby(['AgeGroup','Sex']).agg({'Survived': 'mean'}).unstack()\n",
        "print(\"Survival Rate by Sex and Age Group:\\n\", df2)"
      ],
      "metadata": {
        "colab": {
          "base_uri": "https://localhost:8080/"
        },
        "id": "hVBfD2eSrQx5",
        "outputId": "1ae35862-579e-4777-a633-7901680ce6d1"
      },
      "execution_count": 13,
      "outputs": [
        {
          "output_type": "stream",
          "name": "stdout",
          "text": [
            "Survival Rate by Sex and Age Group:\n",
            "           Survived          \n",
            "Sex         female      male\n",
            "AgeGroup                    \n",
            "0-18      0.676471  0.338028\n",
            "19-35     0.751445  0.162983\n",
            "36-50     0.732143  0.206186\n",
            "51+       0.941176  0.127660\n"
          ]
        }
      ]
    },
    {
      "cell_type": "code",
      "source": [
        "bins = [0, 18, 35, 50, 100]\n",
        "label = ['0-18', '19-35', '36-50', '51+']\n",
        "df['AgeGroup'] = pd.cut(df['Age'], bins = bins, labels = label,right=False)\n",
        "survival = df.groupby(['AgeGroup','Sex']).agg({'Survived': 'mean'}).unstack()\n",
        "survival.plot(kind='bar', color=['yellow', 'orange'])\n",
        "plt.xlabel('Age Group')\n",
        "plt.ylabel('Survival Rate')\n",
        "plt.title('Survival Rate for Males and Females in Different Age Groups')\n",
        "plt.legend(title='Sex', loc='upper left', labels=['Female', 'Male'])\n",
        "plt.show()"
      ],
      "metadata": {
        "colab": {
          "base_uri": "https://localhost:8080/",
          "height": 498
        },
        "id": "iPZBEAC1rSJl",
        "outputId": "abe58072-f7fe-4015-c38d-4d8f8ce8cb8c"
      },
      "execution_count": 19,
      "outputs": [
        {
          "output_type": "display_data",
          "data": {
            "text/plain": [
              "<Figure size 640x480 with 1 Axes>"
            ],
            "image/png": "[encoded data removed]"
          },
          "metadata": {}
        }
      ]
    },
    {
      "cell_type": "code",
      "source": [
        "df2=df[df['Survived']==1]\n",
        "survival_class=df2.groupby(df2['Pclass']).agg({'Survived':'count'})\n",
        "print(survival_class)\n",
        "plt.pie(survival_class['Survived'],labels=['class1','class2','class3'],colors=['orange', 'blue', 'pink'])\n",
        "plt.title('Distribution of Survivors Across Classes')\n",
        "plt.show()"
      ],
      "metadata": {
        "colab": {
          "base_uri": "https://localhost:8080/",
          "height": 515
        },
        "id": "MAV8em7KrVTb",
        "outputId": "c020c34e-08ae-4e8a-ae68-809c67200c78"
      },
      "execution_count": 21,
      "outputs": [
        {
          "output_type": "stream",
          "name": "stdout",
          "text": [
            "        Survived\n",
            "Pclass          \n",
            "1            136\n",
            "2             87\n",
            "3            119\n"
          ]
        },
        {
          "output_type": "display_data",
          "data": {
            "text/plain": [
              "<Figure size 640x480 with 1 Axes>"
            ],
            "image/png": "[encoded data removed]"
          },
          "metadata": {}
        }
      ]
    }
  ]
}